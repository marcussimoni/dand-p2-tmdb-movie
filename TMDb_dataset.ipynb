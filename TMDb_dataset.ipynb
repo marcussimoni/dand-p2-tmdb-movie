{
 "cells": [
  {
   "cell_type": "markdown",
   "metadata": {
    "colab_type": "text",
    "id": "pNiuH_hoFjKz"
   },
   "source": [
    "# Project: Investigate a Dataset TMDb movie data\n",
    "\n",
    "## Table of Contents\n",
    "<ul>\n",
    "<li><a href=\"#intro\">Introduction</a></li>\n",
    "<li><a href=\"#wrangling\">Data Wrangling</a></li>\n",
    "<li><a href=\"#eda\">Exploratory Data Analysis</a></li>\n",
    "<li><a href=\"#conclusions\">Conclusions</a></li>\n",
    "</ul>"
   ]
  },
  {
   "cell_type": "markdown",
   "metadata": {
    "colab_type": "text",
    "id": "N0Rps_pfFjK0"
   },
   "source": [
    "<a id='intro'></a>\n",
    "## Introduction\n",
    "\n",
    "Welcome to the TMDb dataset analysis. The TMDb is a dataset about movies. In this study, we'll search for answers for some questions like: \n",
    "\n",
    "* Actors that most appears in movies\n",
    "* What is the most popular gender grouped by years for the last 10 years?\n",
    "* Is it Movies with higher budget make more revenue?"
   ]
  },
  {
   "cell_type": "markdown",
   "metadata": {
    "colab_type": "text",
    "id": "FiCYvcGMKgxy"
   },
   "source": [
    "### Importing libs\n",
    "\n",
    "Here we'll import all the tools used in this study. We'll use pandas and numpy to manipulate data in datasets and matplotlib and seaborn to plot the results found in charts. We also use locale library to format currency values to a better visualization.\n"
   ]
  },
  {
   "cell_type": "code",
   "execution_count": 1,
   "metadata": {
    "colab": {},
    "colab_type": "code",
    "id": "6A9sq4zGFjK1"
   },
   "outputs": [],
   "source": [
    "# IMPORTING LIBS\n",
    "\n",
    "import pandas as pd\n",
    "import numpy as np\n",
    "import matplotlib.pyplot as plt\n",
    "import seaborn as sns\n",
    "import locale"
   ]
  },
  {
   "cell_type": "code",
   "execution_count": 2,
   "metadata": {
    "colab": {
     "base_uri": "https://localhost:8080/",
     "height": 34
    },
    "colab_type": "code",
    "id": "QgyHwEwKL2V-",
    "outputId": "e84a472e-b680-4155-f729-7eefe18d3011"
   },
   "outputs": [
    {
     "data": {
      "text/plain": [
       "'en_US.UTF-8'"
      ]
     },
     "execution_count": 2,
     "metadata": {},
     "output_type": "execute_result"
    }
   ],
   "source": [
    "# defining global settings\n",
    "plt.rcParams[\"figure.figsize\"] = [16,9]\n",
    "locale.setlocale(locale.LC_MONETARY, 'en_US.UTF-8')"
   ]
  },
  {
   "cell_type": "markdown",
   "metadata": {
    "colab_type": "text",
    "id": "aYv6JkRmFjK4"
   },
   "source": [
    "<a id='wrangling'></a>\n",
    "## Data Wrangling\n",
    "\n",
    "### Loading dataset and creating the main dataframe"
   ]
  },
  {
   "cell_type": "code",
   "execution_count": 3,
   "metadata": {
    "colab": {},
    "colab_type": "code",
    "id": "xZ2hbsFfFjK4"
   },
   "outputs": [],
   "source": [
    "# load tmdb dataset and create a new dataframe\n",
    "df = pd.read_csv('https://d17h27t6h515a5.cloudfront.net/topher/2017/October/59dd1c4c_tmdb-movies/tmdb-movies.csv')"
   ]
  },
  {
   "cell_type": "markdown",
   "metadata": {
    "colab_type": "text",
    "id": "DkXSJjJpH-n7"
   },
   "source": [
    "## Preparing data for analysis\n",
    "\n",
    "Before start analysis the TMDb movie dataset to answer the above questions it is necessary to prepare our dataset. The first step is to keep only the features that will be used for the purpose of this analysis. Some features will not be necessary and it will be removed from the original dataset. These columns are: 'id', 'imdb_id', 'homepage', 'overview', 'keywords', 'tagline', 'production_companies', 'budget_adj', 'revenue_adj'."
   ]
  },
  {
   "cell_type": "markdown",
   "metadata": {
    "colab_type": "text",
    "id": "9aSf1fOnMTxy"
   },
   "source": [
    "#### View of dataframe structure before removing useless columns"
   ]
  },
  {
   "cell_type": "code",
   "execution_count": 5,
   "metadata": {
    "colab": {
     "base_uri": "https://localhost:8080/",
     "height": 210
    },
    "colab_type": "code",
    "id": "3Of4EUIMIGbL",
    "outputId": "4f85876f-fe47-41a7-ca3d-3667699d9eb2"
   },
   "outputs": [
    {
     "data": {
      "text/html": [
       "<div>\n",
       "<style scoped>\n",
       "    .dataframe tbody tr th:only-of-type {\n",
       "        vertical-align: middle;\n",
       "    }\n",
       "\n",
       "    .dataframe tbody tr th {\n",
       "        vertical-align: top;\n",
       "    }\n",
       "\n",
       "    .dataframe thead th {\n",
       "        text-align: right;\n",
       "    }\n",
       "</style>\n",
       "<table border=\"1\" class=\"dataframe\">\n",
       "  <thead>\n",
       "    <tr style=\"text-align: right;\">\n",
       "      <th></th>\n",
       "      <th>id</th>\n",
       "      <th>imdb_id</th>\n",
       "      <th>popularity</th>\n",
       "      <th>budget</th>\n",
       "      <th>revenue</th>\n",
       "      <th>original_title</th>\n",
       "      <th>cast</th>\n",
       "      <th>homepage</th>\n",
       "      <th>director</th>\n",
       "      <th>tagline</th>\n",
       "      <th>...</th>\n",
       "      <th>overview</th>\n",
       "      <th>runtime</th>\n",
       "      <th>genres</th>\n",
       "      <th>production_companies</th>\n",
       "      <th>release_date</th>\n",
       "      <th>vote_count</th>\n",
       "      <th>vote_average</th>\n",
       "      <th>release_year</th>\n",
       "      <th>budget_adj</th>\n",
       "      <th>revenue_adj</th>\n",
       "    </tr>\n",
       "  </thead>\n",
       "  <tbody>\n",
       "    <tr>\n",
       "      <th>0</th>\n",
       "      <td>135397</td>\n",
       "      <td>tt0369610</td>\n",
       "      <td>32.985763</td>\n",
       "      <td>150000000</td>\n",
       "      <td>1513528810</td>\n",
       "      <td>Jurassic World</td>\n",
       "      <td>Chris Pratt|Bryce Dallas Howard|Irrfan Khan|Vi...</td>\n",
       "      <td>http://www.jurassicworld.com/</td>\n",
       "      <td>Colin Trevorrow</td>\n",
       "      <td>The park is open.</td>\n",
       "      <td>...</td>\n",
       "      <td>Twenty-two years after the events of Jurassic ...</td>\n",
       "      <td>124</td>\n",
       "      <td>Action|Adventure|Science Fiction|Thriller</td>\n",
       "      <td>Universal Studios|Amblin Entertainment|Legenda...</td>\n",
       "      <td>6/9/15</td>\n",
       "      <td>5562</td>\n",
       "      <td>6.5</td>\n",
       "      <td>2015</td>\n",
       "      <td>1.379999e+08</td>\n",
       "      <td>1.392446e+09</td>\n",
       "    </tr>\n",
       "  </tbody>\n",
       "</table>\n",
       "<p>1 rows × 21 columns</p>\n",
       "</div>"
      ],
      "text/plain": [
       "       id    imdb_id  popularity     budget     revenue  original_title  \\\n",
       "0  135397  tt0369610   32.985763  150000000  1513528810  Jurassic World   \n",
       "\n",
       "                                                cast  \\\n",
       "0  Chris Pratt|Bryce Dallas Howard|Irrfan Khan|Vi...   \n",
       "\n",
       "                        homepage         director            tagline  \\\n",
       "0  http://www.jurassicworld.com/  Colin Trevorrow  The park is open.   \n",
       "\n",
       "       ...                                                overview runtime  \\\n",
       "0      ...       Twenty-two years after the events of Jurassic ...     124   \n",
       "\n",
       "                                      genres  \\\n",
       "0  Action|Adventure|Science Fiction|Thriller   \n",
       "\n",
       "                                production_companies release_date vote_count  \\\n",
       "0  Universal Studios|Amblin Entertainment|Legenda...       6/9/15       5562   \n",
       "\n",
       "   vote_average  release_year    budget_adj   revenue_adj  \n",
       "0           6.5          2015  1.379999e+08  1.392446e+09  \n",
       "\n",
       "[1 rows x 21 columns]"
      ]
     },
     "execution_count": 5,
     "metadata": {},
     "output_type": "execute_result"
    }
   ],
   "source": [
    "df.head(1)"
   ]
  },
  {
   "cell_type": "code",
   "execution_count": 6,
   "metadata": {
    "colab": {
     "base_uri": "https://localhost:8080/",
     "height": 164
    },
    "colab_type": "code",
    "id": "BwK2tlMBKzRj",
    "outputId": "a1c5f181-427a-41a8-e652-7fb5a97d1fbd"
   },
   "outputs": [
    {
     "data": {
      "text/html": [
       "<div>\n",
       "<style scoped>\n",
       "    .dataframe tbody tr th:only-of-type {\n",
       "        vertical-align: middle;\n",
       "    }\n",
       "\n",
       "    .dataframe tbody tr th {\n",
       "        vertical-align: top;\n",
       "    }\n",
       "\n",
       "    .dataframe thead th {\n",
       "        text-align: right;\n",
       "    }\n",
       "</style>\n",
       "<table border=\"1\" class=\"dataframe\">\n",
       "  <thead>\n",
       "    <tr style=\"text-align: right;\">\n",
       "      <th></th>\n",
       "      <th>popularity</th>\n",
       "      <th>budget</th>\n",
       "      <th>revenue</th>\n",
       "      <th>original_title</th>\n",
       "      <th>cast</th>\n",
       "      <th>director</th>\n",
       "      <th>runtime</th>\n",
       "      <th>genres</th>\n",
       "      <th>release_date</th>\n",
       "      <th>vote_count</th>\n",
       "      <th>vote_average</th>\n",
       "      <th>release_year</th>\n",
       "    </tr>\n",
       "  </thead>\n",
       "  <tbody>\n",
       "    <tr>\n",
       "      <th>0</th>\n",
       "      <td>32.985763</td>\n",
       "      <td>150000000</td>\n",
       "      <td>1513528810</td>\n",
       "      <td>Jurassic World</td>\n",
       "      <td>Chris Pratt|Bryce Dallas Howard|Irrfan Khan|Vi...</td>\n",
       "      <td>Colin Trevorrow</td>\n",
       "      <td>124</td>\n",
       "      <td>Action|Adventure|Science Fiction|Thriller</td>\n",
       "      <td>6/9/15</td>\n",
       "      <td>5562</td>\n",
       "      <td>6.5</td>\n",
       "      <td>2015</td>\n",
       "    </tr>\n",
       "  </tbody>\n",
       "</table>\n",
       "</div>"
      ],
      "text/plain": [
       "   popularity     budget     revenue  original_title  \\\n",
       "0   32.985763  150000000  1513528810  Jurassic World   \n",
       "\n",
       "                                                cast         director  \\\n",
       "0  Chris Pratt|Bryce Dallas Howard|Irrfan Khan|Vi...  Colin Trevorrow   \n",
       "\n",
       "   runtime                                     genres release_date  \\\n",
       "0      124  Action|Adventure|Science Fiction|Thriller       6/9/15   \n",
       "\n",
       "   vote_count  vote_average  release_year  \n",
       "0        5562           6.5          2015  "
      ]
     },
     "execution_count": 6,
     "metadata": {},
     "output_type": "execute_result"
    }
   ],
   "source": [
    "#REMOVING COLUMNS\n",
    "columns = ['id', 'imdb_id', 'homepage', 'overview', 'keywords', 'tagline', 'production_companies', 'budget_adj', 'revenue_adj']\n",
    "df.drop(axis=1, columns=columns, inplace=True)\n",
    "df.head(1)\n"
   ]
  },
  {
   "cell_type": "markdown",
   "metadata": {
    "colab_type": "text",
    "id": "D5YS6DXQFjK6"
   },
   "source": [
    "### Data Cleaning (Removing null values from dataframe)\n",
    "\n",
    "There are some null values in the following columns: cast, director and genre. we cannot fill these features with default values so we need to remove them."
   ]
  },
  {
   "cell_type": "code",
   "execution_count": 7,
   "metadata": {
    "colab": {
     "base_uri": "https://localhost:8080/",
     "height": 302
    },
    "colab_type": "code",
    "id": "hKNeAEy4IlgR",
    "outputId": "cb69a535-9839-4301-b0aa-99b1d8e3d1b6"
   },
   "outputs": [
    {
     "name": "stdout",
     "output_type": "stream",
     "text": [
      "<class 'pandas.core.frame.DataFrame'>\n",
      "RangeIndex: 10866 entries, 0 to 10865\n",
      "Data columns (total 12 columns):\n",
      "popularity        10866 non-null float64\n",
      "budget            10866 non-null int64\n",
      "revenue           10866 non-null int64\n",
      "original_title    10866 non-null object\n",
      "cast              10790 non-null object\n",
      "director          10822 non-null object\n",
      "runtime           10866 non-null int64\n",
      "genres            10843 non-null object\n",
      "release_date      10866 non-null object\n",
      "vote_count        10866 non-null int64\n",
      "vote_average      10866 non-null float64\n",
      "release_year      10866 non-null int64\n",
      "dtypes: float64(2), int64(5), object(5)\n",
      "memory usage: 1018.8+ KB\n"
     ]
    }
   ],
   "source": [
    "#check for null values\n",
    "df.info()"
   ]
  },
  {
   "cell_type": "code",
   "execution_count": 8,
   "metadata": {
    "colab": {
     "base_uri": "https://localhost:8080/",
     "height": 302
    },
    "colab_type": "code",
    "id": "PgxHouXOW46d",
    "outputId": "e97af962-c7d3-40ca-ddfa-0a90b46777ad"
   },
   "outputs": [
    {
     "name": "stdout",
     "output_type": "stream",
     "text": [
      "<class 'pandas.core.frame.DataFrame'>\n",
      "Int64Index: 10732 entries, 0 to 10865\n",
      "Data columns (total 12 columns):\n",
      "popularity        10732 non-null float64\n",
      "budget            10732 non-null int64\n",
      "revenue           10732 non-null int64\n",
      "original_title    10732 non-null object\n",
      "cast              10732 non-null object\n",
      "director          10732 non-null object\n",
      "runtime           10732 non-null int64\n",
      "genres            10732 non-null object\n",
      "release_date      10732 non-null object\n",
      "vote_count        10732 non-null int64\n",
      "vote_average      10732 non-null float64\n",
      "release_year      10732 non-null int64\n",
      "dtypes: float64(2), int64(5), object(5)\n",
      "memory usage: 1.1+ MB\n"
     ]
    }
   ],
   "source": [
    "# removing null values\n",
    "df.dropna(inplace=True)\n",
    "df.info()"
   ]
  },
  {
   "cell_type": "markdown",
   "metadata": {
    "colab_type": "text",
    "id": "u94wE6XM33Ze"
   },
   "source": [
    "#### Removing zero values in currency columns\n",
    "\n",
    "Another problem detected is: Some movies don't have budget and revenue values. we need to delete them before begin.\n"
   ]
  },
  {
   "cell_type": "code",
   "execution_count": 0,
   "metadata": {
    "colab": {
     "base_uri": "https://localhost:8080/",
     "height": 47
    },
    "colab_type": "code",
    "id": "vAw7nZ_E4CXf",
    "outputId": "0d82348e-de97-433f-b8b5-4e6ed58bc991"
   },
   "outputs": [
    {
     "data": {
      "text/html": [
       "<div>\n",
       "<style scoped>\n",
       "    .dataframe tbody tr th:only-of-type {\n",
       "        vertical-align: middle;\n",
       "    }\n",
       "\n",
       "    .dataframe tbody tr th {\n",
       "        vertical-align: top;\n",
       "    }\n",
       "\n",
       "    .dataframe thead th {\n",
       "        text-align: right;\n",
       "    }\n",
       "</style>\n",
       "<table border=\"1\" class=\"dataframe\">\n",
       "  <thead>\n",
       "    <tr style=\"text-align: right;\">\n",
       "      <th></th>\n",
       "      <th>popularity</th>\n",
       "      <th>budget</th>\n",
       "      <th>revenue</th>\n",
       "      <th>original_title</th>\n",
       "      <th>cast</th>\n",
       "      <th>director</th>\n",
       "      <th>runtime</th>\n",
       "      <th>genres</th>\n",
       "      <th>release_date</th>\n",
       "      <th>vote_count</th>\n",
       "      <th>vote_average</th>\n",
       "      <th>release_year</th>\n",
       "    </tr>\n",
       "  </thead>\n",
       "  <tbody>\n",
       "  </tbody>\n",
       "</table>\n",
       "</div>"
      ],
      "text/plain": [
       "Empty DataFrame\n",
       "Columns: [popularity, budget, revenue, original_title, cast, director, runtime, genres, release_date, vote_count, vote_average, release_year]\n",
       "Index: []"
      ]
     },
     "execution_count": 39,
     "metadata": {
      "tags": []
     },
     "output_type": "execute_result"
    }
   ],
   "source": [
    "# check for revenue and budget values equal to 0\n",
    "df = df.query('revenue != 0')\n",
    "df = df.query('budget != 0')\n",
    "\n",
    "df[(df[['budget', 'revenue']] == 0).any(axis=1)]"
   ]
  },
  {
   "cell_type": "markdown",
   "metadata": {
    "colab_type": "text",
    "id": "EoUKH7Y4vha5"
   },
   "source": [
    "We finished cleaning our data. Let's see how they are distributed in the histogram chart."
   ]
  },
  {
   "cell_type": "code",
   "execution_count": 0,
   "metadata": {
    "colab": {
     "base_uri": "https://localhost:8080/",
     "height": 552
    },
    "colab_type": "code",
    "id": "R_znY4VGtRNw",
    "outputId": "b0ac17fb-e987-48ca-c2d9-cb950bd043d0"
   },
   "outputs": [
    {
     "data": {
      "image/png": "[encoded data removed]",
      "text/plain": [
       "<Figure size 1152x648 with 9 Axes>"
      ]
     },
     "metadata": {
      "tags": []
     },
     "output_type": "display_data"
    }
   ],
   "source": [
    "df.hist();"
   ]
  },
  {
   "cell_type": "markdown",
   "metadata": {
    "colab_type": "text",
    "id": "jhz4jZ5yFjK8"
   },
   "source": [
    "<a id='eda'></a>\n",
    "## Exploratory Data Analysis\n",
    "\n",
    "\n",
    "## Research Question 1 - Actors that most appears in movies"
   ]
  },
  {
   "cell_type": "markdown",
   "metadata": {
    "colab_type": "text",
    "id": "JQ7JbJUMIM5r"
   },
   "source": [
    "All Actors that participate in movies inside this dataset are stored in one column called \"cast\". This column is a string containing the actors separated with a pipe character. One actor may participate in more than one movie. We need the name of all actors in this dataset without duplicated values so we'll create a new actors data frame starting from column cast."
   ]
  },
  {
   "cell_type": "code",
   "execution_count": 0,
   "metadata": {
    "colab": {
     "base_uri": "https://localhost:8080/",
     "height": 34
    },
    "colab_type": "code",
    "id": "iHZJRgHgghV3",
    "outputId": "4d18995b-b58f-4ce9-c487-78d26eddab9b"
   },
   "outputs": [
    {
     "data": {
      "text/plain": [
       "str"
      ]
     },
     "execution_count": 41,
     "metadata": {
      "tags": []
     },
     "output_type": "execute_result"
    }
   ],
   "source": [
    "# check type from cast values\n",
    "type(df['cast'].values[0])"
   ]
  },
  {
   "cell_type": "markdown",
   "metadata": {
    "colab_type": "text",
    "id": "md6kSCHPOBvs"
   },
   "source": [
    "#### Creating a new dataframe starting from column cast"
   ]
  },
  {
   "cell_type": "code",
   "execution_count": 0,
   "metadata": {
    "colab": {
     "base_uri": "https://localhost:8080/",
     "height": 195
    },
    "colab_type": "code",
    "id": "uBYg-w6UK6kv",
    "outputId": "71988189-cd9b-476b-a792-16de6302f0d3"
   },
   "outputs": [
    {
     "data": {
      "text/html": [
       "<div>\n",
       "<style scoped>\n",
       "    .dataframe tbody tr th:only-of-type {\n",
       "        vertical-align: middle;\n",
       "    }\n",
       "\n",
       "    .dataframe tbody tr th {\n",
       "        vertical-align: top;\n",
       "    }\n",
       "\n",
       "    .dataframe thead th {\n",
       "        text-align: right;\n",
       "    }\n",
       "</style>\n",
       "<table border=\"1\" class=\"dataframe\">\n",
       "  <thead>\n",
       "    <tr style=\"text-align: right;\">\n",
       "      <th></th>\n",
       "      <th>actor</th>\n",
       "      <th>id</th>\n",
       "    </tr>\n",
       "  </thead>\n",
       "  <tbody>\n",
       "    <tr>\n",
       "      <th>0</th>\n",
       "      <td>Chris Pratt</td>\n",
       "      <td>0</td>\n",
       "    </tr>\n",
       "    <tr>\n",
       "      <th>1</th>\n",
       "      <td>Bryce Dallas Howard</td>\n",
       "      <td>1</td>\n",
       "    </tr>\n",
       "    <tr>\n",
       "      <th>2</th>\n",
       "      <td>Irrfan Khan</td>\n",
       "      <td>2</td>\n",
       "    </tr>\n",
       "    <tr>\n",
       "      <th>3</th>\n",
       "      <td>Vincent D'Onofrio</td>\n",
       "      <td>3</td>\n",
       "    </tr>\n",
       "    <tr>\n",
       "      <th>4</th>\n",
       "      <td>Nick Robinson</td>\n",
       "      <td>4</td>\n",
       "    </tr>\n",
       "  </tbody>\n",
       "</table>\n",
       "</div>"
      ],
      "text/plain": [
       "                 actor  id\n",
       "0          Chris Pratt   0\n",
       "1  Bryce Dallas Howard   1\n",
       "2          Irrfan Khan   2\n",
       "3    Vincent D'Onofrio   3\n",
       "4        Nick Robinson   4"
      ]
     },
     "execution_count": 42,
     "metadata": {
      "tags": []
     },
     "output_type": "execute_result"
    }
   ],
   "source": [
    "#create a dataframe with all actors in dataset\n",
    "actors = list()\n",
    "def set_actors(list_actors):\n",
    "  for actor in list_actors.split('|'):\n",
    "    actors.append(actor)\n",
    "\n",
    "df['cast'].apply(set_actors)\n",
    "\n",
    "# create a new series and remove duplicated values\n",
    "actors = pd.Series(actors)\n",
    "actors.drop_duplicates(inplace=True)\n",
    "\n",
    "# create a new dataframe from series actors\n",
    "\n",
    "actors_df = pd.DataFrame(data = {'id': range(len(actors)), 'actor': pd.Series(actors)})\n",
    "actors_df.head()"
   ]
  },
  {
   "cell_type": "markdown",
   "metadata": {
    "colab_type": "text",
    "id": "1FxyhYGsrZuz"
   },
   "source": [
    "#### Create a new column changing actors name to actors id in the main dataframe\n",
    "\n",
    "After creating the actor's dataset we need to create a new column in the main dataset changing the name of the actors for the respective id from actors dataset. We'll do that to optimize the counting process in the next step."
   ]
  },
  {
   "cell_type": "code",
   "execution_count": 0,
   "metadata": {
    "colab": {
     "base_uri": "https://localhost:8080/",
     "height": 34
    },
    "colab_type": "code",
    "id": "yeCGrASl8PMh",
    "outputId": "99f5bfc9-521e-4667-acd1-b0a6d4bd8d0d"
   },
   "outputs": [
    {
     "name": "stdout",
     "output_type": "stream",
     "text": [
      "Column id_cast successfully created\n"
     ]
    }
   ],
   "source": [
    "#create a series to convert the name of actor to int\n",
    "def convert_to_int(cast):\n",
    "  actors = actors_df[actors_df['actor'].isin(cast)]\n",
    "  return actors['id'].values\n",
    "\n",
    "array_cast = df['cast'].str.split('|').apply(convert_to_int)\n",
    "df['id_cast'] = array_cast\n",
    "print('Column id_cast successfully created')"
   ]
  },
  {
   "cell_type": "markdown",
   "metadata": {
    "colab_type": "text",
    "id": "-6lp-dCAtEQB"
   },
   "source": [
    "#### Counting actors\n",
    "\n",
    "Finally, we can count the number of movies each actor participated."
   ]
  },
  {
   "cell_type": "code",
   "execution_count": 0,
   "metadata": {
    "colab": {},
    "colab_type": "code",
    "id": "UZy4ov7Jo6Jb"
   },
   "outputs": [],
   "source": [
    "#count total movies by actor\n",
    "actors_id = actors_df['id'].values\n",
    "cast_id = df['id_cast'].values\n",
    "\n",
    "ids = []\n",
    "films_by_actors = {'actor':[], 'total':[]}\n",
    "\n",
    "for ci in cast_id:\n",
    "  for id in ci:\n",
    "    ids.append(id)\n",
    "\n",
    "ids = np.array(ids)\n",
    "def count_movies_by_actor(row):\n",
    "  actor = row['actor']\n",
    "  id = row['id']\n",
    "  \n",
    "  total = len(np.where(id == ids)[0])\n",
    "  \n",
    "  films_by_actors['actor'].append(actor)\n",
    "  films_by_actors['total'].append(total)\n",
    "    \n",
    "total_count = actors_df.apply(count_movies_by_actor,axis=1)"
   ]
  },
  {
   "cell_type": "markdown",
   "metadata": {
    "colab_type": "text",
    "id": "0S_T9jrGt_tK"
   },
   "source": [
    "### Checking the results\n",
    "\n",
    "After counting finished we can check the result and plot a chart for better visualization."
   ]
  },
  {
   "cell_type": "code",
   "execution_count": 0,
   "metadata": {
    "colab": {
     "base_uri": "https://localhost:8080/",
     "height": 343
    },
    "colab_type": "code",
    "id": "TNGSnZVKjaOL",
    "outputId": "75f90f2f-22c7-4696-e48a-562834a2ea9b"
   },
   "outputs": [
    {
     "data": {
      "text/html": [
       "<div>\n",
       "<style scoped>\n",
       "    .dataframe tbody tr th:only-of-type {\n",
       "        vertical-align: middle;\n",
       "    }\n",
       "\n",
       "    .dataframe tbody tr th {\n",
       "        vertical-align: top;\n",
       "    }\n",
       "\n",
       "    .dataframe thead th {\n",
       "        text-align: right;\n",
       "    }\n",
       "</style>\n",
       "<table border=\"1\" class=\"dataframe\">\n",
       "  <thead>\n",
       "    <tr style=\"text-align: right;\">\n",
       "      <th></th>\n",
       "      <th>actor</th>\n",
       "      <th>total</th>\n",
       "    </tr>\n",
       "  </thead>\n",
       "  <tbody>\n",
       "    <tr>\n",
       "      <th>220</th>\n",
       "      <td>Robert De Niro</td>\n",
       "      <td>52</td>\n",
       "    </tr>\n",
       "    <tr>\n",
       "      <th>571</th>\n",
       "      <td>Bruce Willis</td>\n",
       "      <td>46</td>\n",
       "    </tr>\n",
       "    <tr>\n",
       "      <th>73</th>\n",
       "      <td>Samuel L. Jackson</td>\n",
       "      <td>44</td>\n",
       "    </tr>\n",
       "    <tr>\n",
       "      <th>808</th>\n",
       "      <td>Nicolas Cage</td>\n",
       "      <td>43</td>\n",
       "    </tr>\n",
       "    <tr>\n",
       "      <th>34</th>\n",
       "      <td>Matt Damon</td>\n",
       "      <td>36</td>\n",
       "    </tr>\n",
       "    <tr>\n",
       "      <th>242</th>\n",
       "      <td>Johnny Depp</td>\n",
       "      <td>35</td>\n",
       "    </tr>\n",
       "    <tr>\n",
       "      <th>119</th>\n",
       "      <td>Brad Pitt</td>\n",
       "      <td>34</td>\n",
       "    </tr>\n",
       "    <tr>\n",
       "      <th>15</th>\n",
       "      <td>Harrison Ford</td>\n",
       "      <td>34</td>\n",
       "    </tr>\n",
       "    <tr>\n",
       "      <th>703</th>\n",
       "      <td>Morgan Freeman</td>\n",
       "      <td>34</td>\n",
       "    </tr>\n",
       "    <tr>\n",
       "      <th>282</th>\n",
       "      <td>Sylvester Stallone</td>\n",
       "      <td>34</td>\n",
       "    </tr>\n",
       "  </tbody>\n",
       "</table>\n",
       "</div>"
      ],
      "text/plain": [
       "                  actor  total\n",
       "220      Robert De Niro     52\n",
       "571        Bruce Willis     46\n",
       "73    Samuel L. Jackson     44\n",
       "808        Nicolas Cage     43\n",
       "34           Matt Damon     36\n",
       "242         Johnny Depp     35\n",
       "119           Brad Pitt     34\n",
       "15        Harrison Ford     34\n",
       "703      Morgan Freeman     34\n",
       "282  Sylvester Stallone     34"
      ]
     },
     "execution_count": 45,
     "metadata": {
      "tags": []
     },
     "output_type": "execute_result"
    }
   ],
   "source": [
    "# 10 ACTORS THAT MOST APPEARS IN MOVIES\n",
    "total_movies_by_actors_df = pd.DataFrame(films_by_actors).sort_values(by='total',ascending=False)[:10]\n",
    "total_movies_by_actors_df.head(10)\n"
   ]
  },
  {
   "cell_type": "code",
   "execution_count": 0,
   "metadata": {
    "colab": {
     "base_uri": "https://localhost:8080/",
     "height": 672
    },
    "colab_type": "code",
    "id": "lXw0Phq3dkIY",
    "outputId": "ae0c2b15-5fc0-4276-8a04-4b1d6eec39a9"
   },
   "outputs": [
    {
     "data": {
      "image/png": "[encoded data removed]",
      "text/plain": [
       "<Figure size 1152x648 with 1 Axes>"
      ]
     },
     "metadata": {
      "tags": []
     },
     "output_type": "display_data"
    }
   ],
   "source": [
    "# CREATE A CHART TO BETTER VIEW THE RESULTS\n",
    "values = total_movies_by_actors_df['total'].values\n",
    "\n",
    "labels = total_movies_by_actors_df['actor'].values\n",
    "total = values.shape[0]\n",
    "\n",
    "sns.set_palette(sns.color_palette('hls', total))\n",
    "explode=(np.repeat(0.05, total))\n",
    "\n",
    "fig, ax = plt.subplots()\n",
    "\n",
    "ax.pie(values, explode=explode, autopct=lambda x: int(x/100.*values.sum()), labels=labels, shadow=True, startangle=90, pctdistance=0.85);\n",
    "\n",
    "ax.axis('equal')\n",
    "ax.set_title('Actors that most participate in movies', pad=25, fontdict={'fontsize': 20});\n",
    "\n",
    "cc = plt.Circle((0,0), 0.65, fc='white')\n",
    "plt.gcf().gca().add_artist(cc)\n",
    "\n",
    "plt.tight_layout();\n",
    "plt.show()"
   ]
  },
  {
   "cell_type": "markdown",
   "metadata": {
    "colab_type": "text",
    "id": "CS4GisufFjK_"
   },
   "source": [
    "## Research Question 2 - What is the most popular genre grouped by 10 years?"
   ]
  },
  {
   "cell_type": "markdown",
   "metadata": {
    "colab_type": "text",
    "id": "e2WLngL1hD7E"
   },
   "source": [
    "In the second question, we'll try to group by genre movies in intervals of ten years and keep only the most popular genres in each period. To do that we need to retrieve all genres present inside the dataset, separate them in a new series, remove all duplicated genres and calculate the mean value from popularity column in the main dataframe."
   ]
  },
  {
   "cell_type": "markdown",
   "metadata": {
    "colab_type": "text",
    "id": "gJhtD9f0S81-"
   },
   "source": [
    "### Creating a series of genres\n",
    "\n",
    "In the first step, we'll create a new series with all genres present in the main dataset and remove the duplicated values. But before that, we need to get the values and split them by pipe character."
   ]
  },
  {
   "cell_type": "code",
   "execution_count": 0,
   "metadata": {
    "colab": {},
    "colab_type": "code",
    "id": "02NxI4tgjIqF"
   },
   "outputs": [],
   "source": [
    "# retrieve genres and remove duplicated values\n",
    "\n",
    "genres = []\n",
    "\n",
    "[genres.extend(genre.split('|')) for genre in df['genres'].values]\n",
    "genres = pd.Series(genres)\n",
    "genres.drop_duplicates(inplace=True)"
   ]
  },
  {
   "cell_type": "markdown",
   "metadata": {
    "colab_type": "text",
    "id": "7JHJj3OJUkmM"
   },
   "source": [
    "###Defining the range of years for groups of genres\n",
    "\n",
    "Now we'll get the oldest release and the newest release present in the main dateset and setting them as a range for calculating de popularity. We'll set a variable with year interval too."
   ]
  },
  {
   "cell_type": "code",
   "execution_count": 0,
   "metadata": {
    "colab": {},
    "colab_type": "code",
    "id": "OOdt7z1JjXVU"
   },
   "outputs": [],
   "source": [
    "# set intervals and between release years and the range of ten years\n",
    "oldest_release = df['release_year'].min()\n",
    "newest_release = df['release_year'].max()\n",
    "years = 10"
   ]
  },
  {
   "cell_type": "markdown",
   "metadata": {
    "colab_type": "text",
    "id": "uPLhdjGoVojn"
   },
   "source": [
    "#### Calculating the mean popularity"
   ]
  },
  {
   "cell_type": "code",
   "execution_count": 0,
   "metadata": {
    "colab": {},
    "colab_type": "code",
    "id": "qvkU7Re_dnan"
   },
   "outputs": [],
   "source": [
    "# group genres by years and calculate mean from popularity\n",
    "release_year = {}\n",
    "\n",
    "while(oldest_release < newest_release):\n",
    "  \n",
    "  period = df.query('release_year >= {} and release_year <= {}'.format(oldest_release, (oldest_release + 10)))\n",
    "    \n",
    "  most_popular = -1\n",
    "    \n",
    "  for genre in genres:\n",
    "    \n",
    "    popularity = period.loc[period['genres'].str.contains(genre)]['popularity'].mean()\n",
    "    \n",
    "    if(most_popular < popularity):\n",
    "      most_popular = popularity\n",
    "      movie_genre = {'period': '', 'genre': '', 'popularity': ''}\n",
    "      movie_genre['genre'] = genre\n",
    "      movie_genre['period'] = oldest_release\n",
    "      movie_genre['popularity'] = popularity\n",
    "      release_year[oldest_release] = movie_genre;\n",
    "  \n",
    "  oldest_release += years"
   ]
  },
  {
   "cell_type": "markdown",
   "metadata": {
    "colab_type": "text",
    "id": "wvamuLX_P6nv"
   },
   "source": [
    "### Checking the results\n",
    "\n",
    "At the end, we have a new dataframe with the most popular genres grouped by a period of 10 years"
   ]
  },
  {
   "cell_type": "code",
   "execution_count": 0,
   "metadata": {
    "colab": {
     "base_uri": "https://localhost:8080/",
     "height": 225
    },
    "colab_type": "code",
    "id": "qGI_59l1jSWu",
    "outputId": "9f0ad6a9-34d5-484f-d098-8e876c5146b2"
   },
   "outputs": [
    {
     "data": {
      "text/html": [
       "<div>\n",
       "<style scoped>\n",
       "    .dataframe tbody tr th:only-of-type {\n",
       "        vertical-align: middle;\n",
       "    }\n",
       "\n",
       "    .dataframe tbody tr th {\n",
       "        vertical-align: top;\n",
       "    }\n",
       "\n",
       "    .dataframe thead th {\n",
       "        text-align: right;\n",
       "    }\n",
       "</style>\n",
       "<table border=\"1\" class=\"dataframe\">\n",
       "  <thead>\n",
       "    <tr style=\"text-align: right;\">\n",
       "      <th></th>\n",
       "      <th>genre</th>\n",
       "      <th>period</th>\n",
       "      <th>popularity</th>\n",
       "    </tr>\n",
       "  </thead>\n",
       "  <tbody>\n",
       "    <tr>\n",
       "      <th>5</th>\n",
       "      <td>Science Fiction</td>\n",
       "      <td>2010</td>\n",
       "      <td>3.628470</td>\n",
       "    </tr>\n",
       "    <tr>\n",
       "      <th>4</th>\n",
       "      <td>Fantasy</td>\n",
       "      <td>2000</td>\n",
       "      <td>1.922326</td>\n",
       "    </tr>\n",
       "    <tr>\n",
       "      <th>3</th>\n",
       "      <td>Animation</td>\n",
       "      <td>1990</td>\n",
       "      <td>1.558176</td>\n",
       "    </tr>\n",
       "    <tr>\n",
       "      <th>2</th>\n",
       "      <td>Adventure</td>\n",
       "      <td>1980</td>\n",
       "      <td>1.253894</td>\n",
       "    </tr>\n",
       "    <tr>\n",
       "      <th>1</th>\n",
       "      <td>Science Fiction</td>\n",
       "      <td>1970</td>\n",
       "      <td>1.564181</td>\n",
       "    </tr>\n",
       "    <tr>\n",
       "      <th>0</th>\n",
       "      <td>Animation</td>\n",
       "      <td>1960</td>\n",
       "      <td>2.373218</td>\n",
       "    </tr>\n",
       "  </tbody>\n",
       "</table>\n",
       "</div>"
      ],
      "text/plain": [
       "             genre  period  popularity\n",
       "5  Science Fiction    2010    3.628470\n",
       "4          Fantasy    2000    1.922326\n",
       "3        Animation    1990    1.558176\n",
       "2        Adventure    1980    1.253894\n",
       "1  Science Fiction    1970    1.564181\n",
       "0        Animation    1960    2.373218"
      ]
     },
     "execution_count": 50,
     "metadata": {
      "tags": []
     },
     "output_type": "execute_result"
    }
   ],
   "source": [
    "# show results from process\n",
    "\n",
    "movies_grouped_by_period = pd.DataFrame(list(release_year.values()))\n",
    "\n",
    "movies_grouped_by_period.sort_values(by='period', ascending=False)"
   ]
  },
  {
   "cell_type": "markdown",
   "metadata": {
    "colab_type": "text",
    "id": "2gBYqfpPpqmv"
   },
   "source": [
    "## Research Question 3 - Is it Movies with higher budget make more revenue?\n",
    "\n"
   ]
  },
  {
   "cell_type": "markdown",
   "metadata": {
    "colab_type": "text",
    "id": "jS7ViPJWno67"
   },
   "source": [
    "In the third question, we'll try to find a relation between budget and revenue. Is it movies with a higher budget always make more revenue? Plot all values will difficult the visualization so we'll plot two charts: one with 10 movies with a higher budget and another with a sample with random movies. We'll create two new columns to help visualization of currency values."
   ]
  },
  {
   "cell_type": "code",
   "execution_count": 0,
   "metadata": {
    "colab": {},
    "colab_type": "code",
    "id": "2n7kevWGPluH"
   },
   "outputs": [],
   "source": [
    "#defining functions\n",
    "\n",
    "\n",
    "def format_currency(value):\n",
    "  \"\"\"\n",
    "  format currency values\n",
    "  \"\"\"\n",
    "  return locale.currency(value, grouping=True)\n",
    "\n",
    "\n",
    "def bar_plot(budget, revenue, movie, title):\n",
    "  \"\"\"\n",
    "  plot bar chart in horizontal orientation\n",
    "  \"\"\"\n",
    "  index = np.arange(len(budget))\n",
    "  \n",
    "  values = ['Revenue', 'Budget']\n",
    "  bar_width = 0.35\n",
    "  \n",
    "  plt.barh(index, revenue.apply(lambda x: x/1000000), bar_width, color='blue');\n",
    "  plt.barh(index+bar_width, budget.apply(lambda x: x/1000000), bar_width, color='red');\n",
    "        \n",
    "  plt.yticks(index, movie)\n",
    "      \n",
    "  plt.xlabel('Currency values represented in millions', labelpad=20)\n",
    "  plt.legend(values)\n",
    "  plt.title(title, pad=20, fontdict={'fontsize':20})\n",
    "  \n",
    "  plt.show();\n",
    "\n",
    "def plot_chart(chart_df):\n",
    "  movies = chart_df['original_title']\n",
    "  revenue = chart_df['revenue']\n",
    "  budget = chart_df['budget']\n",
    "  title = '10 movies with highest budget'\n",
    "\n",
    "  bar_plot(budget, revenue, movies, title)"
   ]
  },
  {
   "cell_type": "code",
   "execution_count": 0,
   "metadata": {
    "colab": {},
    "colab_type": "code",
    "id": "oStRRw-FdT9P"
   },
   "outputs": [],
   "source": [
    "# FORMAT CURRENCY VALUES FOR BETTER VISUALIZATION\n",
    "df['budget_fmt'] = df['budget'].apply(format_currency) \n",
    "df['revenue_fmt'] = df['revenue'].apply(format_currency)"
   ]
  },
  {
   "cell_type": "code",
   "execution_count": 0,
   "metadata": {
    "colab": {},
    "colab_type": "code",
    "id": "9pS5a-VRd3ST"
   },
   "outputs": [],
   "source": [
    "# DEFINING COLUMN NAMES\n",
    "columns = ['original_title', 'release_year', 'budget_fmt', 'revenue_fmt', 'budget', 'revenue']"
   ]
  },
  {
   "cell_type": "markdown",
   "metadata": {
    "colab_type": "text",
    "id": "dTXXde94_XLV"
   },
   "source": [
    "### Movies with highest budget"
   ]
  },
  {
   "cell_type": "markdown",
   "metadata": {
    "colab_type": "text",
    "id": "NxKczDKL3g16"
   },
   "source": [
    "The first try will be with the movies with the highest budget. In the following cells, we can see the values from pandas and a chart for better visualization."
   ]
  },
  {
   "cell_type": "code",
   "execution_count": 0,
   "metadata": {
    "colab": {
     "base_uri": "https://localhost:8080/",
     "height": 343
    },
    "colab_type": "code",
    "id": "JUJAZbiaKTqM",
    "outputId": "c30d917b-dae2-4a7e-fd9f-8d93db0e6cb6"
   },
   "outputs": [
    {
     "data": {
      "text/html": [
       "<div>\n",
       "<style scoped>\n",
       "    .dataframe tbody tr th:only-of-type {\n",
       "        vertical-align: middle;\n",
       "    }\n",
       "\n",
       "    .dataframe tbody tr th {\n",
       "        vertical-align: top;\n",
       "    }\n",
       "\n",
       "    .dataframe thead th {\n",
       "        text-align: right;\n",
       "    }\n",
       "</style>\n",
       "<table border=\"1\" class=\"dataframe\">\n",
       "  <thead>\n",
       "    <tr style=\"text-align: right;\">\n",
       "      <th></th>\n",
       "      <th>original_title</th>\n",
       "      <th>release_year</th>\n",
       "      <th>budget_fmt</th>\n",
       "      <th>revenue_fmt</th>\n",
       "    </tr>\n",
       "  </thead>\n",
       "  <tbody>\n",
       "    <tr>\n",
       "      <th>2244</th>\n",
       "      <td>The Warrior's Way</td>\n",
       "      <td>2010</td>\n",
       "      <td>$425,000,000.00</td>\n",
       "      <td>$11,087,569.00</td>\n",
       "    </tr>\n",
       "    <tr>\n",
       "      <th>3375</th>\n",
       "      <td>Pirates of the Caribbean: On Stranger Tides</td>\n",
       "      <td>2011</td>\n",
       "      <td>$380,000,000.00</td>\n",
       "      <td>$1,021,683,000.00</td>\n",
       "    </tr>\n",
       "    <tr>\n",
       "      <th>7387</th>\n",
       "      <td>Pirates of the Caribbean: At World's End</td>\n",
       "      <td>2007</td>\n",
       "      <td>$300,000,000.00</td>\n",
       "      <td>$961,000,000.00</td>\n",
       "    </tr>\n",
       "    <tr>\n",
       "      <th>14</th>\n",
       "      <td>Avengers: Age of Ultron</td>\n",
       "      <td>2015</td>\n",
       "      <td>$280,000,000.00</td>\n",
       "      <td>$1,405,035,767.00</td>\n",
       "    </tr>\n",
       "    <tr>\n",
       "      <th>6570</th>\n",
       "      <td>Superman Returns</td>\n",
       "      <td>2006</td>\n",
       "      <td>$270,000,000.00</td>\n",
       "      <td>$391,081,192.00</td>\n",
       "    </tr>\n",
       "    <tr>\n",
       "      <th>4411</th>\n",
       "      <td>John Carter</td>\n",
       "      <td>2012</td>\n",
       "      <td>$260,000,000.00</td>\n",
       "      <td>$284,139,100.00</td>\n",
       "    </tr>\n",
       "    <tr>\n",
       "      <th>1929</th>\n",
       "      <td>Tangled</td>\n",
       "      <td>2010</td>\n",
       "      <td>$260,000,000.00</td>\n",
       "      <td>$591,794,936.00</td>\n",
       "    </tr>\n",
       "    <tr>\n",
       "      <th>7394</th>\n",
       "      <td>Spider-Man 3</td>\n",
       "      <td>2007</td>\n",
       "      <td>$258,000,000.00</td>\n",
       "      <td>$890,871,626.00</td>\n",
       "    </tr>\n",
       "    <tr>\n",
       "      <th>5508</th>\n",
       "      <td>The Lone Ranger</td>\n",
       "      <td>2013</td>\n",
       "      <td>$255,000,000.00</td>\n",
       "      <td>$89,289,910.00</td>\n",
       "    </tr>\n",
       "    <tr>\n",
       "      <th>643</th>\n",
       "      <td>X-Men: Days of Future Past</td>\n",
       "      <td>2014</td>\n",
       "      <td>$250,000,000.00</td>\n",
       "      <td>$746,000,000.00</td>\n",
       "    </tr>\n",
       "  </tbody>\n",
       "</table>\n",
       "</div>"
      ],
      "text/plain": [
       "                                   original_title  release_year  \\\n",
       "2244                            The Warrior's Way          2010   \n",
       "3375  Pirates of the Caribbean: On Stranger Tides          2011   \n",
       "7387     Pirates of the Caribbean: At World's End          2007   \n",
       "14                        Avengers: Age of Ultron          2015   \n",
       "6570                             Superman Returns          2006   \n",
       "4411                                  John Carter          2012   \n",
       "1929                                      Tangled          2010   \n",
       "7394                                 Spider-Man 3          2007   \n",
       "5508                              The Lone Ranger          2013   \n",
       "643                    X-Men: Days of Future Past          2014   \n",
       "\n",
       "           budget_fmt        revenue_fmt  \n",
       "2244  $425,000,000.00     $11,087,569.00  \n",
       "3375  $380,000,000.00  $1,021,683,000.00  \n",
       "7387  $300,000,000.00    $961,000,000.00  \n",
       "14    $280,000,000.00  $1,405,035,767.00  \n",
       "6570  $270,000,000.00    $391,081,192.00  \n",
       "4411  $260,000,000.00    $284,139,100.00  \n",
       "1929  $260,000,000.00    $591,794,936.00  \n",
       "7394  $258,000,000.00    $890,871,626.00  \n",
       "5508  $255,000,000.00     $89,289,910.00  \n",
       "643   $250,000,000.00    $746,000,000.00  "
      ]
     },
     "execution_count": 54,
     "metadata": {
      "tags": []
     },
     "output_type": "execute_result"
    }
   ],
   "source": [
    "# 10 MOVIES WITH HIGHER BUDGET\n",
    "highest_budget_df = df.sort_values(by='budget', ascending=False)[columns][:10]\n",
    "highest_budget_df[columns[:4]]"
   ]
  },
  {
   "cell_type": "code",
   "execution_count": 0,
   "metadata": {
    "colab": {
     "base_uri": "https://localhost:8080/",
     "height": 602
    },
    "colab_type": "code",
    "id": "X2fpZqsGMFqL",
    "outputId": "636a9a48-fe2a-44b0-e3a1-c7eed709d835"
   },
   "outputs": [
    {
     "data": {
      "image/png": "[encoded data removed]",
      "text/plain": [
       "<Figure size 1152x648 with 1 Axes>"
      ]
     },
     "metadata": {
      "tags": []
     },
     "output_type": "display_data"
    }
   ],
   "source": [
    "# BAR CHART FOR BETTER VISUALIZATION\n",
    "plot_chart(highest_budget_df)"
   ]
  },
  {
   "cell_type": "markdown",
   "metadata": {
    "colab_type": "text",
    "id": "mPkbTxxc_g1L"
   },
   "source": [
    "It seems that higher budget not necessarily implies in a higher revenue as we can see in Avengers and Pirates of Caribbean movies. Avengers movie has a smaller budget than Pirates of the Caribbean but has higher revenue. We can also see movies that didn't have profit. The warrior's way and The lone range has the highest budget than the revenue. Let's compare the random sample to check if we get the same results."
   ]
  },
  {
   "cell_type": "markdown",
   "metadata": {
    "colab_type": "text",
    "id": "30pLwBOVBuVv"
   },
   "source": [
    "### Random sample of movies\n"
   ]
  },
  {
   "cell_type": "code",
   "execution_count": 0,
   "metadata": {
    "colab": {
     "base_uri": "https://localhost:8080/",
     "height": 343
    },
    "colab_type": "code",
    "id": "CCWvQqbw2_8Y",
    "outputId": "23cbb363-81ef-4975-c2dd-93ab156698c3"
   },
   "outputs": [
    {
     "data": {
      "text/html": [
       "<div>\n",
       "<style scoped>\n",
       "    .dataframe tbody tr th:only-of-type {\n",
       "        vertical-align: middle;\n",
       "    }\n",
       "\n",
       "    .dataframe tbody tr th {\n",
       "        vertical-align: top;\n",
       "    }\n",
       "\n",
       "    .dataframe thead th {\n",
       "        text-align: right;\n",
       "    }\n",
       "</style>\n",
       "<table border=\"1\" class=\"dataframe\">\n",
       "  <thead>\n",
       "    <tr style=\"text-align: right;\">\n",
       "      <th></th>\n",
       "      <th>original_title</th>\n",
       "      <th>release_year</th>\n",
       "      <th>budget_fmt</th>\n",
       "      <th>revenue_fmt</th>\n",
       "    </tr>\n",
       "  </thead>\n",
       "  <tbody>\n",
       "    <tr>\n",
       "      <th>1413</th>\n",
       "      <td>Coraline</td>\n",
       "      <td>2009</td>\n",
       "      <td>$60,000,000.00</td>\n",
       "      <td>$124,596,398.00</td>\n",
       "    </tr>\n",
       "    <tr>\n",
       "      <th>3078</th>\n",
       "      <td>The Express</td>\n",
       "      <td>2008</td>\n",
       "      <td>$40,000,000.00</td>\n",
       "      <td>$9,793,496.00</td>\n",
       "    </tr>\n",
       "    <tr>\n",
       "      <th>2577</th>\n",
       "      <td>Play It to the Bone</td>\n",
       "      <td>1999</td>\n",
       "      <td>$24,000,000.00</td>\n",
       "      <td>$8,434,146.00</td>\n",
       "    </tr>\n",
       "    <tr>\n",
       "      <th>755</th>\n",
       "      <td>Endless Love</td>\n",
       "      <td>2014</td>\n",
       "      <td>$20,000,000.00</td>\n",
       "      <td>$34,077,920.00</td>\n",
       "    </tr>\n",
       "    <tr>\n",
       "      <th>9147</th>\n",
       "      <td>The Object of My Affection</td>\n",
       "      <td>1998</td>\n",
       "      <td>$15,000,000.00</td>\n",
       "      <td>$46,905,889.00</td>\n",
       "    </tr>\n",
       "    <tr>\n",
       "      <th>6925</th>\n",
       "      <td>For Your Consideration</td>\n",
       "      <td>2006</td>\n",
       "      <td>$12,000,000.00</td>\n",
       "      <td>$5,542,025.00</td>\n",
       "    </tr>\n",
       "    <tr>\n",
       "      <th>10689</th>\n",
       "      <td>Thunderball</td>\n",
       "      <td>1965</td>\n",
       "      <td>$11,000,000.00</td>\n",
       "      <td>$141,195,658.00</td>\n",
       "    </tr>\n",
       "    <tr>\n",
       "      <th>9514</th>\n",
       "      <td>Above the Law</td>\n",
       "      <td>1988</td>\n",
       "      <td>$7,500,000.00</td>\n",
       "      <td>$18,869,631.00</td>\n",
       "    </tr>\n",
       "    <tr>\n",
       "      <th>10755</th>\n",
       "      <td>Grease</td>\n",
       "      <td>1978</td>\n",
       "      <td>$6,000,000.00</td>\n",
       "      <td>$181,813,770.00</td>\n",
       "    </tr>\n",
       "    <tr>\n",
       "      <th>8944</th>\n",
       "      <td>Death Wish 2</td>\n",
       "      <td>1982</td>\n",
       "      <td>$2.00</td>\n",
       "      <td>$16.00</td>\n",
       "    </tr>\n",
       "  </tbody>\n",
       "</table>\n",
       "</div>"
      ],
      "text/plain": [
       "                   original_title  release_year      budget_fmt  \\\n",
       "1413                     Coraline          2009  $60,000,000.00   \n",
       "3078                  The Express          2008  $40,000,000.00   \n",
       "2577          Play It to the Bone          1999  $24,000,000.00   \n",
       "755                  Endless Love          2014  $20,000,000.00   \n",
       "9147   The Object of My Affection          1998  $15,000,000.00   \n",
       "6925       For Your Consideration          2006  $12,000,000.00   \n",
       "10689                 Thunderball          1965  $11,000,000.00   \n",
       "9514                Above the Law          1988   $7,500,000.00   \n",
       "10755                      Grease          1978   $6,000,000.00   \n",
       "8944                 Death Wish 2          1982           $2.00   \n",
       "\n",
       "           revenue_fmt  \n",
       "1413   $124,596,398.00  \n",
       "3078     $9,793,496.00  \n",
       "2577     $8,434,146.00  \n",
       "755     $34,077,920.00  \n",
       "9147    $46,905,889.00  \n",
       "6925     $5,542,025.00  \n",
       "10689  $141,195,658.00  \n",
       "9514    $18,869,631.00  \n",
       "10755  $181,813,770.00  \n",
       "8944            $16.00  "
      ]
     },
     "execution_count": 56,
     "metadata": {
      "tags": []
     },
     "output_type": "execute_result"
    }
   ],
   "source": [
    "# RANDOM SAMPLE OF MOVIES WITH HIGHER BUDGET\n",
    "highest_budget_df = df.sort_values(by='budget', ascending=False)[columns][10:].sample(n=10, random_state=42).sort_values(by='budget', ascending=False)\n",
    "highest_budget_df[columns[:4]]"
   ]
  },
  {
   "cell_type": "code",
   "execution_count": 0,
   "metadata": {
    "colab": {
     "base_uri": "https://localhost:8080/",
     "height": 602
    },
    "colab_type": "code",
    "id": "OSxQz40T-Gww",
    "outputId": "62726a77-57c1-4482-ad8e-a5d498c5604f"
   },
   "outputs": [
    {
     "data": {
      "image/png": "[encoded data removed]",
      "text/plain": [
       "<Figure size 1152x648 with 1 Axes>"
      ]
     },
     "metadata": {
      "tags": []
     },
     "output_type": "display_data"
    }
   ],
   "source": [
    "# BAR CHART FOR BETTER VISUALIZATION\n",
    "plot_chart(highest_budget_df)"
   ]
  },
  {
   "cell_type": "markdown",
   "metadata": {
    "colab_type": "text",
    "id": "erM9NwwNcbLe"
   },
   "source": [
    "A similar result may be seen here, higher budget not always implies in a higher revenue as we can see in a comparison between Grease and Coraline movies."
   ]
  },
  {
   "cell_type": "markdown",
   "metadata": {
    "colab_type": "text",
    "id": "GQ4mI3KoFjLB"
   },
   "source": [
    "<a id='conclusions'></a>\n",
    "## Conclusions\n",
    "\n",
    "At the end of this study, we found the answers to all questions proposed for this analysis. We discovered that Robert De Niro is the actor that most participate in movies in this dataset, the genre Science Fiction got the highest mean popularity for the period from 2010, that a higher budget is not the main feature the makes a movie most popular and we reach all the conclusion using the tools proposed at the beginning of this study. Unfortunately, the lack of some values decreased the amount of data in the final result once we have to remove them in the cleaning section and maybe we had a different result if all the values were completed. Another point that would be interesting in this dataset would be the presence of two features: nationality of the movie and the original language. If these features were present would allow the combination with other features to find different results in the final analysis."
   ]
  }
 ],
 "metadata": {
  "colab": {
   "collapsed_sections": [],
   "name": "TMDb dataset.ipynb",
   "provenance": [],
   "version": "0.3.2"
  },
  "kernelspec": {
   "display_name": "Python 3",
   "language": "python",
   "name": "python3"
  },
  "language_info": {
   "codemirror_mode": {
    "name": "ipython",
    "version": 3
   },
   "file_extension": ".py",
   "mimetype": "text/x-python",
   "name": "python",
   "nbconvert_exporter": "python",
   "pygments_lexer": "ipython3",
   "version": "3.6.3"
  }
 },
 "nbformat": 4,
 "nbformat_minor": 1
}
